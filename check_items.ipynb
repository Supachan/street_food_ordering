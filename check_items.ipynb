{
 "cells": [
  {
   "cell_type": "code",
   "execution_count": 4,
   "metadata": {},
   "outputs": [],
   "source": [
    "import os\n",
    "\n",
    "def find_unmatching_files(folder_path, desired_list):\n",
    "    # Get the list of files in the folder\n",
    "    folder_files = os.listdir(folder_path)\n",
    "    \n",
    "    # Find the intersection of folder files and the desired list\n",
    "    unmatching_files = [file for file in desired_list if file not in folder_files]\n",
    "    \n",
    "    return unmatching_files"
   ]
  },
  {
   "cell_type": "code",
   "execution_count": 5,
   "metadata": {},
   "outputs": [
    {
     "data": {
      "text/plain": [
       "[]"
      ]
     },
     "execution_count": 5,
     "metadata": {},
     "output_type": "execute_result"
    }
   ],
   "source": [
    "folder_path  = 'video/'\n",
    "desired_list = 'เส้นเล็ก, เส้นใหญ่, เส้นหมี่, บะหมี่, เนื้อหมู, เนื้อสด, เนื้อเปื่อย, เนื้อปลา, ปลาหมึก, หมูกรอบ, กุ้ง, ลูกชิ้นหมู, ลูกชิ้นเนื้อ, ลูกชิ้นแคะ, ลูกชิ้นปลา, ลูกชิ้นกุ้ง, ถั่วงอก, ผัก, เต้าหู้, เครื่องใน, '\n",
    "desired_list += 'หมูสับ, หมูชิ้น, เนื้อสับ, กุ้ง, ปลาหมึก, ไข่ดาวไม่สุก, ไข่ดาวสุก, ไข่เจียวหมูสับ, ไข่ต้ม, ไม่เผ็ด, เผ็ดน้อย, เผ็ดปานกลาง, เผ็ดมาก, '\n",
    "desired_list += 'น้ำปลาร้า, ไข่เค็ม, ขนมจีน, น้ำตาล, น้ำปลา, ผงชูรส, ปู, กุ้งแห้ง, '\n",
    "desired_list += 'ไม่ใส่ถั่วงอก, ไม่ใส่ผัก, ไม่ใส่เต้าหู้, ไม่ใส่ลูกชิ้นแคะ, ไม่ใส่เครื่องใน, ไม่ใส่เนื้อสัตว์, ไม่ใส่ผงชูรส, ไม่ใส่ปู, ไม่ใส่กุ้งแห้ง, น้ำปลาร้า, ไข่เค็ม, ขนมจีน, น้ำตาล, น้ำปลา, ผงชูรส, ปู, กุ้งแห้ง'\n",
    "desired_list = set([d+'.mp4' for d in desired_list.split(', ')])\n",
    "find_unmatching_files(folder_path, desired_list)"
   ]
  },
  {
   "cell_type": "code",
   "execution_count": null,
   "metadata": {},
   "outputs": [],
   "source": []
  }
 ],
 "metadata": {
  "kernelspec": {
   "display_name": "tf38",
   "language": "python",
   "name": "python3"
  },
  "language_info": {
   "codemirror_mode": {
    "name": "ipython",
    "version": 3
   },
   "file_extension": ".py",
   "mimetype": "text/x-python",
   "name": "python",
   "nbconvert_exporter": "python",
   "pygments_lexer": "ipython3",
   "version": "3.8.16"
  }
 },
 "nbformat": 4,
 "nbformat_minor": 2
}
